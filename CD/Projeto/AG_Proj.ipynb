{
  "nbformat": 4,
  "nbformat_minor": 0,
  "metadata": {
    "colab": {
      "provenance": []
    },
    "kernelspec": {
      "name": "python3",
      "display_name": "Python 3"
    },
    "language_info": {
      "name": "python"
    }
  },
  "cells": [
    {
      "cell_type": "code",
      "source": [
        "# !pip install deap\n",
        "!pip install scikit-learn"
      ],
      "metadata": {
        "colab": {
          "base_uri": "https://localhost:8080/"
        },
        "id": "T68ay9-fKt60",
        "outputId": "d7d71387-adad-4dc0-e1e8-67b9f1062ac4"
      },
      "execution_count": 54,
      "outputs": [
        {
          "output_type": "stream",
          "name": "stdout",
          "text": [
            "Requirement already satisfied: scikit-learn in /usr/local/lib/python3.10/dist-packages (1.2.2)\n",
            "Requirement already satisfied: numpy>=1.17.3 in /usr/local/lib/python3.10/dist-packages (from scikit-learn) (1.25.2)\n",
            "Requirement already satisfied: scipy>=1.3.2 in /usr/local/lib/python3.10/dist-packages (from scikit-learn) (1.11.4)\n",
            "Requirement already satisfied: joblib>=1.1.1 in /usr/local/lib/python3.10/dist-packages (from scikit-learn) (1.4.2)\n",
            "Requirement already satisfied: threadpoolctl>=2.0.0 in /usr/local/lib/python3.10/dist-packages (from scikit-learn) (3.5.0)\n"
          ]
        }
      ]
    },
    {
      "cell_type": "code",
      "source": [
        "import numpy as np\n",
        "import random\n",
        "from sklearn.metrics import mean_squared_error\n",
        "from deap import creator, base, tools, algorithms"
      ],
      "metadata": {
        "id": "SNI1OmQiKkei"
      },
      "execution_count": 55,
      "outputs": []
    },
    {
      "cell_type": "code",
      "source": [
        "# Valores de x: Índices de tempo (anos)\n",
        "x = np.arange(1, 121)  # Representa os meses de 1 a 120 (dez anos)\n",
        "\n",
        "# Valores de y: Vendas totais para cada mês\n",
        "# Criando uma sequência de valores que aumentam em 10 em 10\n",
        "y = np.arange(100, 100 + len(x) * 10, 10)  # Exemplo de sequência que aumenta em 10 em 10\n",
        "print(y)"
      ],
      "metadata": {
        "colab": {
          "base_uri": "https://localhost:8080/"
        },
        "id": "IXrOsNLwK1ii",
        "outputId": "647ebe05-576f-405f-b896-729bfbad5a55"
      },
      "execution_count": 145,
      "outputs": [
        {
          "output_type": "stream",
          "name": "stdout",
          "text": [
            "[ 100  110  120  130  140  150  160  170  180  190  200  210  220  230\n",
            "  240  250  260  270  280  290  300  310  320  330  340  350  360  370\n",
            "  380  390  400  410  420  430  440  450  460  470  480  490  500  510\n",
            "  520  530  540  550  560  570  580  590  600  610  620  630  640  650\n",
            "  660  670  680  690  700  710  720  730  740  750  760  770  780  790\n",
            "  800  810  820  830  840  850  860  870  880  890  900  910  920  930\n",
            "  940  950  960  970  980  990 1000 1010 1020 1030 1040 1050 1060 1070\n",
            " 1080 1090 1100 1110 1120 1130 1140 1150 1160 1170 1180 1190 1200 1210\n",
            " 1220 1230 1240 1250 1260 1270 1280 1290]\n"
          ]
        }
      ]
    },
    {
      "cell_type": "code",
      "source": [
        "def f(individual):\n",
        "  a, b = individual\n",
        "  return a*x + b"
      ],
      "metadata": {
        "id": "V5zQSjwhfvnh"
      },
      "execution_count": 137,
      "outputs": []
    },
    {
      "cell_type": "code",
      "source": [
        "\n",
        "# Função de avaliação que calcula o erro quadrático médio (MSE) entre os valores previstos e reais\n",
        "def eval(individual):\n",
        "    y_pred = f(individual)\n",
        "    mse = mean_squared_error(y,y_pred)\n",
        "    return mse,"
      ],
      "metadata": {
        "id": "sXSl8w7LK35E"
      },
      "execution_count": 138,
      "outputs": []
    },
    {
      "cell_type": "code",
      "source": [
        "\n",
        "# Configuração do DEAP\n",
        "creator.create(\"FitnessMin\", base.Fitness, weights=(-1.0,))\n",
        "creator.create(\"Individual\", list, fitness=creator.FitnessMin)\n",
        "\n",
        "toolbox = base.Toolbox()\n",
        "toolbox.register(\"attr_float\", random.uniform, -10, 10)\n",
        "toolbox.register(\"individual\", tools.initRepeat, creator.Individual, toolbox.attr_float, n=2)\n",
        "toolbox.register(\"population\", tools.initRepeat, list, toolbox.individual)\n",
        "\n",
        "toolbox.register(\"evaluate\", eval)\n",
        "toolbox.register(\"mate\", tools.cxTwoPoint)\n",
        "toolbox.register(\"mutate\", tools.mutGaussian, mu=0, sigma=1, indpb=0.1)\n",
        "toolbox.register(\"select\", tools.selTournament, tournsize=3)"
      ],
      "metadata": {
        "colab": {
          "base_uri": "https://localhost:8080/"
        },
        "id": "IVLrlEmIK6dX",
        "outputId": "20a52589-e0d0-4ab5-bba1-5d3a8e2b5aac"
      },
      "execution_count": 139,
      "outputs": [
        {
          "output_type": "stream",
          "name": "stderr",
          "text": [
            "/usr/local/lib/python3.10/dist-packages/deap/creator.py:185: RuntimeWarning: A class named 'FitnessMin' has already been created and it will be overwritten. Consider deleting previous creation of that class or rename it.\n",
            "  warnings.warn(\"A class named '{0}' has already been created and it \"\n",
            "/usr/local/lib/python3.10/dist-packages/deap/creator.py:185: RuntimeWarning: A class named 'Individual' has already been created and it will be overwritten. Consider deleting previous creation of that class or rename it.\n",
            "  warnings.warn(\"A class named '{0}' has already been created and it \"\n"
          ]
        }
      ]
    },
    {
      "cell_type": "code",
      "source": [
        "# Parâmetros do algoritmo\n",
        "POP_SIZE = 500\n",
        "NUM_GENERATIONS = 500\n",
        "\n",
        "# Inicialização da população\n",
        "pop = toolbox.population(n=POP_SIZE)"
      ],
      "metadata": {
        "id": "me8BfFwwLGpK"
      },
      "execution_count": 140,
      "outputs": []
    },
    {
      "cell_type": "code",
      "source": [
        "# Avaliação inicial da população\n",
        "for individual in pop:\n",
        "    individual.fitness.values = toolbox.evaluate(individual)"
      ],
      "metadata": {
        "id": "fZ6J5f1uLKim"
      },
      "execution_count": 141,
      "outputs": []
    },
    {
      "cell_type": "code",
      "source": [
        "# Execução do algoritmo genético\n",
        "algorithms.eaSimple(pop, toolbox, cxpb=0.5, mutpb=0.5, ngen=NUM_GENERATIONS, verbose=False)"
      ],
      "metadata": {
        "id": "bX2FXfyaLM6D"
      },
      "execution_count": null,
      "outputs": []
    },
    {
      "cell_type": "code",
      "execution_count": 147,
      "metadata": {
        "colab": {
          "base_uri": "https://localhost:8080/"
        },
        "id": "6wBe17q6Kh2z",
        "outputId": "3cd5c26d-3611-4d7b-8e05-9522a6c9ac90"
      },
      "outputs": [
        {
          "output_type": "stream",
          "name": "stdout",
          "text": [
            "Melhor indivíduo: [10.000159176496737, 89.99026019758554]\n",
            "Erro quadrático médio encontrado: 3.0414494607039177e-05\n"
          ]
        }
      ],
      "source": [
        "# Encontrando o melhor indivíduo\n",
        "best_ind = tools.selBest(pop, 1)[0]\n",
        "\n",
        "print(\"Melhor indivíduo:\", best_ind)\n",
        "print(\"Erro quadrático médio encontrado:\", best_ind.fitness.values[0])\n"
      ]
    },
    {
      "cell_type": "code",
      "source": [
        "# Calcular os valores previstos usando os parâmetros do melhor indivíduo\n",
        "y_pred = best_ind[0] * 121 + best_ind[1]\n",
        "\n",
        "\n",
        "# Mostrar o melhor valor preditivo\n",
        "print(\"Melhor valor preditivo:\", y_pred)"
      ],
      "metadata": {
        "colab": {
          "base_uri": "https://localhost:8080/"
        },
        "id": "c6p6ivNWd7eb",
        "outputId": "06f0600c-d620-4773-e846-c9962284dd4d"
      },
      "execution_count": 150,
      "outputs": [
        {
          "output_type": "stream",
          "name": "stdout",
          "text": [
            "Melhor valor preditivo: 1300.0095205536907\n"
          ]
        }
      ]
    }
  ]
}